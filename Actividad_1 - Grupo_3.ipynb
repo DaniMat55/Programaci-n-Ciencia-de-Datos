{
  "cells": [
    {
      "cell_type": "markdown",
      "source": [
        "# Integrantes del Equipo No. 3:\n",
        "- Juan Camilo Rubiano Usaquen\n",
        "- Laura Vanessa Camelo Alejo\n",
        "- Leidy Paola Romero Cuellar\n",
        "- Daniel Mateo Garcia Alfonso"
      ],
      "metadata": {
        "id": "ea9v2oLVohLH"
      }
    },
    {
      "cell_type": "markdown",
      "source": [
        "# Actividad Notebook 1"
      ],
      "metadata": {
        "id": "f9tIBUBAp1PR"
      }
    },
    {
      "cell_type": "markdown",
      "metadata": {
        "id": "FzA7vCjuq960"
      },
      "source": [
        "###  **Ejercicio 1: Indice de masa muscular.**\n",
        "Construir un algoritmo  que permita calcular el IMC teniendo en cuenta que:\n",
        "\n",
        "$IMC=\\frac{Peso(Kg)}{Altura^2(m)}$\n",
        "\n",
        "¿Qué variables solicitaría del usuario?\n",
        "\n",
        "- Si un usuario le comenta que su IMC es de $22.3$ y su estatura es de $1.64 m$, ¿Cómo estimaría el peso del usuario?\n",
        "\n",
        "- Si un usuario le comenta que su IMC es de  $25$  y su peso es de  $78 kg$ , ¿Cómo estimaría la estatura del usuario?"
      ]
    },
    {
      "cell_type": "code",
      "source": [
        "# Solución Propuesta - Estimación del Peso del Usuario\n",
        "\n",
        "def estimar_peso(imc, estatura):\n",
        "    peso_estimado = imc * (estatura ** 2)\n",
        "    return peso_estimado\n",
        "\n",
        "imc = float(input(\"Ingrese su IMC: \"))\n",
        "estatura = float(input(\"Ingrese su estatura en metros: \"))\n",
        "\n",
        "peso = estimar_peso(imc, estatura)\n",
        "print(\"La estimación de su peso es:\", peso)\n"
      ],
      "metadata": {
        "colab": {
          "base_uri": "https://localhost:8080/"
        },
        "id": "PqIUKUbGP06S",
        "outputId": "a6127a0d-6c5f-4841-8070-f15ea409e409"
      },
      "execution_count": null,
      "outputs": [
        {
          "output_type": "stream",
          "name": "stdout",
          "text": [
            "Ingrese su IMC: 22.3\n",
            "Ingrese su estatura en metros: 1.64\n",
            "La estimación de su peso es: 59.97807999999999\n"
          ]
        }
      ]
    },
    {
      "cell_type": "code",
      "source": [
        "# Solución Propuesta - Estimación de la estatura del Usuario\n",
        "\n",
        "def estimar_estatura(imc, peso):\n",
        "    estatura_estimada = (imc*peso)**(1/2)\n",
        "    return estatura_estimada\n",
        "\n",
        "imc = float(input(\"Ingrese su IMC: \"))\n",
        "peso = float(input(\"Ingrese su peso en Kg: \"))\n",
        "\n",
        "estatura = estimar_estatura(imc, peso)\n",
        "print(\"La estimación de su estatura es:\", estatura)"
      ],
      "metadata": {
        "colab": {
          "base_uri": "https://localhost:8080/"
        },
        "id": "UgNst_gWQNTS",
        "outputId": "158fb5c9-c03a-4eb2-9d5d-e42710cb03cd"
      },
      "execution_count": null,
      "outputs": [
        {
          "output_type": "stream",
          "name": "stdout",
          "text": [
            "Ingrese su IMC: 78\n",
            "Ingrese su peso en Kg: 25\n",
            "La estimación de su estatura es: 44.15880433163923\n"
          ]
        }
      ]
    },
    {
      "cell_type": "markdown",
      "metadata": {
        "id": "Vk0XJ58tQAyW"
      },
      "source": [
        " ### **Ejercicio 2: Cantidad de centros de atención**\n",
        "\n",
        "Suponga que una eps tiene centros de salud de 3 tipos:\n",
        "\n",
        "- Tipo A: Atiende una pobración de 6530 personas\n",
        "\n",
        "- Tipo B: Atiende una población de 8324 personas\n",
        "\n",
        "- Tipo C: Atiende una población de 11450 personas\n",
        "\n",
        "Escriba un programa que le pregunte al usuario dos combinaciones de tipos de eps, compare entre esas dos combinaciones y establezca cuál de estas es la que mayor cantidad de usuarios impacta.\n",
        "\n",
        "Ej:\n",
        "\n",
        "**Entrada:**\n",
        "\n",
        "Combinación 1: 1 centro de tipo C.\n",
        "\n",
        "Combinación 2: 2 centros de tipo A.\n",
        "\n",
        "**salida:**\n",
        "\n",
        "La combinación 2 impacta más usuarios."
      ]
    },
    {
      "cell_type": "code",
      "source": [
        "# Solución Propuesta\n",
        "\n",
        "# Variables con la cantidad de usuario segun el tipo\n",
        "poblacion_tipo_a = 6530\n",
        "poblacion_tipo_b = 8324\n",
        "poblacion_tipo_c = 11450\n",
        "\n",
        "# Función para extraer el número de centros y el tipo de centro\n",
        "def extraer_datos(combinacion):\n",
        "    # Eliminamos los espacios en blanco\n",
        "    combinacion = combinacion.strip()\n",
        "    # Partimos la entrada en número y tipo (asumiendo formato 'n T')\n",
        "    numero = int(''.join(filter(str.isdigit, combinacion)))\n",
        "    tipo = ''.join(filter(str.isalpha, combinacion)).upper()\n",
        "    return numero, tipo\n",
        "\n",
        "# Pedimos al usuario que ingrese las combinaciones\n",
        "combinacion1 = input(\"Ingrese la combinación 1 (ejemplo: '3 A'): \")\n",
        "combinacion2 = input(\"Ingrese la combinación 2 (ejemplo: '4 C'): \")\n",
        "\n",
        "# Extraemos los datos de las combinaciones\n",
        "numero1, tipo1 = extraer_datos(combinacion1)\n",
        "numero2, tipo2 = extraer_datos(combinacion2)\n",
        "\n",
        "# Calculamos la cantidad de personas impactadas por cada combinación\n",
        "impacto1 = 0\n",
        "impacto2 = 0\n",
        "\n",
        "if tipo1 == \"A\":\n",
        "    impacto1 = numero1 * poblacion_tipo_a\n",
        "elif tipo1 == \"B\":\n",
        "    impacto1 = numero1 * poblacion_tipo_b\n",
        "elif tipo1 == \"C\":\n",
        "    impacto1 = numero1 * poblacion_tipo_c\n",
        "\n",
        "if tipo2 == \"A\":\n",
        "    impacto2 = numero2 * poblacion_tipo_a\n",
        "elif tipo2 == \"B\":\n",
        "    impacto2 = numero2 * poblacion_tipo_b\n",
        "elif tipo2 == \"C\":\n",
        "    impacto2 = numero2 * poblacion_tipo_c\n",
        "\n",
        "# Comparamos los impactos y mostramos el resultado\n",
        "if impacto1 > impacto2:\n",
        "    print(\"La combinación 1 impacta más usuarios.\")\n",
        "elif impacto2 > impacto1:\n",
        "    print(\"La combinación 2 impacta más usuarios.\")\n",
        "else:\n",
        "    print(\"Ambas combinaciones impactan la misma cantidad de usuarios.\")"
      ],
      "metadata": {
        "colab": {
          "base_uri": "https://localhost:8080/"
        },
        "id": "JoxHAe_UpcP5",
        "outputId": "b3bdb318-970e-45f9-e9f6-e2f0b5c08308"
      },
      "execution_count": null,
      "outputs": [
        {
          "output_type": "stream",
          "name": "stdout",
          "text": [
            "Ingrese la combinación 1 (ejemplo: '3 A'): 3 A\n",
            "Ingrese la combinación 2 (ejemplo: '4 C'): 4 B\n",
            "La combinación 2 impacta más usuarios.\n"
          ]
        }
      ]
    },
    {
      "cell_type": "markdown",
      "metadata": {
        "id": "p0hM5zMOH4ES"
      },
      "source": [
        "###  **Ejercicio 3: Costos de envío.**\n",
        "\n",
        "Una persona compró 3 productos en diferentes países. Los valores de envío en cada país varían de la siguiente forma: el primero tiene un costo del 15% sobre el valor original del producto. El segundo tiene un costo del 18% sobre el valor original del producto. El tercero tiene un costo del 12%  sobre el valor original del producto. Se necesita construir un programa que solicite al usuario el valor original de cada producto e imprima:\n",
        "\n",
        "* El valor total de los tres productos incluyendo los costos de envío (se debe sumar el valor de todos los productos con sus incrementos).\n",
        "* El promedio de los tres productos antes y después de realizar los incrementos\n"
      ]
    },
    {
      "cell_type": "code",
      "source": [
        "# Solución Propuesta - Sin Función\n",
        "\n",
        "valorOrig = int(input(\"Ingrese el valor original del producto: \"))\n",
        "valor1 = valorOrig * 0.15\n",
        "valor2 = valorOrig * 0.18\n",
        "valor3 = valorOrig * 0.12\n",
        "\n",
        "print(f\"El valor total de los tres productos incluyendo los costos de envío es: {valor1 + valor2 + valor3}\")\n",
        "print(f\"El promedio de los tres productos antes de realizar los incrementos es: {valorOrig}\")\n",
        "print(f\"El promedio de los tres productos después de realizar los incrementos es: {(valor1 + valor2 + valor3)/3}\")"
      ],
      "metadata": {
        "colab": {
          "base_uri": "https://localhost:8080/"
        },
        "id": "aKItCaazqOAh",
        "outputId": "e4576c03-760c-4fbf-ced8-a19898bbf28f"
      },
      "execution_count": null,
      "outputs": [
        {
          "output_type": "stream",
          "name": "stdout",
          "text": [
            "Ingrese el valor original del producto: 4000\n",
            "El valor total de los tres productos incluyendo los costos de envío es: 1800.0\n",
            "El promedio de los tres productos antes de realizar los incrementos es: 4000\n",
            "El promedio de los tres productos después de realizar los incrementos es: 600.0\n"
          ]
        }
      ]
    },
    {
      "cell_type": "code",
      "source": [
        "# Solución Propuesta - Con Función\n",
        "\n",
        "def calcularCostosEnvio(valorOrig):\n",
        "    valor1 = valorOrig * 0.15\n",
        "    valor2 = valorOrig * 0.18\n",
        "    valor3 = valorOrig * 0.12\n",
        "\n",
        "    total = valor1 + valor2 + valor3\n",
        "    promedio_con_incrementos = total / 3\n",
        "\n",
        "    print(f\"El valor total de los tres productos incluyendo los costos de envío es: {total}\")\n",
        "    print(f\"El promedio de los tres productos antes de realizar los incrementos es: {valorOrig}\")\n",
        "    print(f\"El promedio de los tres productos después de realizar los incrementos es: {promedio_con_incrementos}\")\n",
        "\n",
        "\n",
        "valorOrig = int(input(\"Ingrese el valor original del producto: \"))\n",
        "calcularCostosEnvio(valorOrig)"
      ],
      "metadata": {
        "colab": {
          "base_uri": "https://localhost:8080/"
        },
        "id": "uNjsdeWOqfFz",
        "outputId": "ca235ee5-3e21-4b32-f0f1-0b11ba989fed"
      },
      "execution_count": null,
      "outputs": [
        {
          "output_type": "stream",
          "name": "stdout",
          "text": [
            "Ingrese el valor original del producto: 4000\n",
            "El valor total de los tres productos incluyendo los costos de envío es: 1800.0\n",
            "El promedio de los tres productos antes de realizar los incrementos es: 4000\n",
            "El promedio de los tres productos después de realizar los incrementos es: 600.0\n"
          ]
        }
      ]
    },
    {
      "cell_type": "markdown",
      "metadata": {
        "id": "4moX5U5Crsyb"
      },
      "source": [
        "###  **Ejercicio 4: Estado.**\n",
        "\n",
        "Teniendo en cuenta los siguientes valores considerados como normales. Escriba un programa que solicite cada dato a un paciente partícular y muestre si el paciente esta en rangos normales o no.\n",
        "\n",
        "|Variable|Rango|Status|\n",
        "|---|---|---|\n",
        "|IMC|22,1 - 24,9| Normal|\n",
        "|Frecuencia Cardíaca|<70|Muy buena|\n",
        "|Presión Arterial|80 - 120|Normal|\n",
        "|Saturación de oxigeno|>95|Normal|\n"
      ]
    },
    {
      "cell_type": "code",
      "source": [
        "# Solicitar datos del paciente\n",
        "\n",
        "def evaluar_paciente(imc, frecuencia_cardiaca, presion_arterial, saturacion_oxigeno):\n",
        "\n",
        "    # Evaluar IMC\n",
        "    if 22.1 <= imc <= 24.9:\n",
        "        estado_imc = \"Normal\"\n",
        "    else:\n",
        "        estado_imc = \"Fuera de rango\"\n",
        "\n",
        "    # Evaluar Frecuencia Cardíaca\n",
        "    if frecuencia_cardiaca < 70:\n",
        "        estado_fc = \"Muy buena\"\n",
        "    else:\n",
        "        estado_fc = \"Fuera de rango\"\n",
        "\n",
        "    # Evaluar Presión Arterial\n",
        "    if 80 <= presion_arterial <= 120:\n",
        "        estado_pa = \"Normal\"\n",
        "    else:\n",
        "        estado_pa = \"Fuera de rango\"\n",
        "\n",
        "    # Evaluar Saturación de Oxígeno\n",
        "    if saturacion_oxigeno > 95:\n",
        "        estado_so = \"Normal\"\n",
        "    else:\n",
        "        estado_so = \"Fuera de rango\"\n",
        "\n",
        "    # Mostrar resultados\n",
        "    print(\"\\nResultados:\")\n",
        "    print(f\"IMC: {imc} - {estado_imc}\")\n",
        "    print(f\"Frecuencia Cardíaca: {frecuencia_cardiaca} - {estado_fc}\")\n",
        "    print(f\"Presión Arterial: {presion_arterial} - {estado_pa}\")\n",
        "    print(f\"Saturación de Oxígeno: {saturacion_oxigeno} - {estado_so}\")\n",
        "\n",
        "# Solicitar datos del paciente\n",
        "imc = float(input(\"Ingrese el IMC del paciente: \"))\n",
        "frecuencia_cardiaca = int(input(\"Ingrese la frecuencia cardiaca del paciente: \"))\n",
        "presion_arterial = int(input(\"Ingrese la presión arterial del paciente: \"))\n",
        "saturacion_oxigeno = int(input(\"Ingrese la saturación de oxígeno del paciente: \"))\n",
        "\n",
        "# Llamar a la función para evaluar al paciente\n",
        "evaluar_paciente(imc, frecuencia_cardiaca, presion_arterial, saturacion_oxigeno)\n"
      ],
      "metadata": {
        "colab": {
          "base_uri": "https://localhost:8080/"
        },
        "id": "WAQpRAIZ5fvN",
        "outputId": "f2c093b1-db8e-41aa-b1e2-9c6e15ef726d"
      },
      "execution_count": null,
      "outputs": [
        {
          "output_type": "stream",
          "name": "stdout",
          "text": [
            "Ingrese el IMC del paciente: 23.1\n",
            "Ingrese la frecuencia cardiaca del paciente: 68\n",
            "Ingrese la presión arterial del paciente: 90\n",
            "Ingrese la saturación de oxígeno del paciente: 95\n",
            "\n",
            "Resultados:\n",
            "IMC: 23.1 - Normal\n",
            "Frecuencia Cardíaca: 68 - Muy buena\n",
            "Presión Arterial: 90 - Normal\n",
            "Saturación de Oxígeno: 95 - Fuera de rango\n"
          ]
        }
      ]
    },
    {
      "cell_type": "markdown",
      "metadata": {
        "id": "B1D2oSUkgxsx"
      },
      "source": [
        "###  **Ejercicio 5: Pacientes.**\n",
        "\n",
        "Tres médicos de la misma especialidad atienden cada uno un número especifico de pacientes. Para facilitar la asignación del siguiente control, se tiene en cuenta un criterio partícular, se toma la cantidad total de pacientes atendidos y se dividen en números iguales, los cuales se reparten entre los diferentes médicos antes mencionados. Los que no quedan en ninguno de estos grupos, se asignaran a una lista de prorizados.\n",
        "\n",
        "Escriba una programa que permita ingresar el número de pacientes atendidos por cada médico y devuelva la cantidad de pacientes en la lista de priorizados.\n",
        "\n",
        "**Ej:** Si en conjunto atienten 91 pacientes, para el siguiente control, de estos cada uno atenderá 30 y 1 estará en lista de priorizados.\n"
      ]
    },
    {
      "cell_type": "code",
      "source": [
        "# Solución Propuesta - Sin Función\n",
        "\n",
        "pacientes = int(input(\"Ingrese el número de pacientes: \"))\n",
        "print(f\"El número de pacientes en la lista de priorizados es: {pacientes % 3}\")"
      ],
      "metadata": {
        "colab": {
          "base_uri": "https://localhost:8080/"
        },
        "id": "GADSEHATrFi6",
        "outputId": "ea46851c-6dbb-4954-97ad-af01dbca20d7"
      },
      "execution_count": null,
      "outputs": [
        {
          "output_type": "stream",
          "name": "stdout",
          "text": [
            "Ingrese el número de pacientes: 5\n",
            "El número de pacientes en la lista de priorizados es: 2\n"
          ]
        }
      ]
    },
    {
      "cell_type": "code",
      "source": [
        "# Solución Propuesta - Con Función\n",
        "\n",
        "def calcularPacientesPriorizados(pacientes):\n",
        "    priorizados = pacientes % 3\n",
        "    print(f\"El número de pacientes en la lista de priorizados es: {priorizados}\")\n",
        "\n",
        "pacientes = int(input(\"Ingrese el número de pacientes: \"))\n",
        "calcularPacientesPriorizados(pacientes)"
      ],
      "metadata": {
        "colab": {
          "base_uri": "https://localhost:8080/"
        },
        "id": "JiUtMn4srKQn",
        "outputId": "f841039f-4cb0-4e90-e095-b64c248b7576"
      },
      "execution_count": null,
      "outputs": [
        {
          "output_type": "stream",
          "name": "stdout",
          "text": [
            "Ingrese el número de pacientes: 5\n",
            "El número de pacientes en la lista de priorizados es: 2\n"
          ]
        }
      ]
    },
    {
      "cell_type": "markdown",
      "source": [
        "# Actividad Notebook 2"
      ],
      "metadata": {
        "id": "jCZHomc4raKn"
      }
    },
    {
      "cell_type": "markdown",
      "metadata": {
        "id": "8b3dd983"
      },
      "source": [
        "### **Ejercicio 1: Determinar el cuadrante**\n",
        "\n",
        "Suponga que despues de realizar una encuesta sobre la visión política y económica a diferentes ciudadanos, se obtienen dos valores que varían entre -50 y 50. El primero, eje horizontal, hace referencia a la tendencia política y el segundo a su visión económica. Contruya un programa que al leer estás dos opuntuaciones determine en que cuadrante se encuentra la persona teniendo como referencia el siguiente gráfico:\n",
        "\n",
        "<img src=\"https://upload.wikimedia.org/wikipedia/commons/thumb/c/cc/Political_chart_ES_yLR.svg/1200px-Political_chart_ES_yLR.svg.png\" alt=\"Political Chart\" width=\"600\" height=\"400\">\n",
        "\n",
        "\n",
        "Fuente: https://upload.wikimedia.org/wikipedia/commons/thumb/c/cc/Political_chart_ES_yLR.svg/1200px-Political_chart_ES_yLR.svg.png"
      ]
    },
    {
      "cell_type": "code",
      "source": [
        "# Solución Propuesta - Sin Función\n",
        "\n",
        "pp = int(input(\"Digite su puntaje de vision Política: \"))\n",
        "pe = int(input(\"Digite su puntaje de vision Económica: \"))\n",
        "if pp > 0 and pe > 0:\n",
        "  print(f\"Su cuadrante Político-Económico es: Derecha Autoritaria\")\n",
        "elif pp < 0 and pe < 0:\n",
        "  print(f\"su cuadrante político-económico es: izquierda libertaria\")\n",
        "if pp > 0 and pe < 0:\n",
        "  print(f\"su cuadrante político-económico es: derecha libertaria\")\n",
        "elif pp < 0 and pe > 0:\n",
        "  print(f\"Su cuadrante Político-Económico es: Izquiera Autoritaria\")"
      ],
      "metadata": {
        "colab": {
          "base_uri": "https://localhost:8080/"
        },
        "id": "JjWPV-JPrg2Y",
        "outputId": "1f36170e-eb74-4d82-f7cd-786ef0b89df6"
      },
      "execution_count": null,
      "outputs": [
        {
          "output_type": "stream",
          "name": "stdout",
          "text": [
            "Digite su puntaje de vision Política: -50\n",
            "Digite su puntaje de vision Económica: 50\n",
            "Su cuadrante Político-Económico es: Izquiera Autoritaria\n"
          ]
        }
      ]
    },
    {
      "cell_type": "code",
      "source": [
        "# Solución Propuesta - Con Función\n",
        "\n",
        "def cuadrante2(pp, pe):\n",
        "    politica = \"Derecha\" if pp > 0 else \"Izquierda\" #Define si es de izq o der dependiendo el valor\n",
        "    economica = \"Autoritaria\" if pe > 0 else \"Libertaria\" #Define si es de aut o lib dependiendo el valor\n",
        "    print(f\"Su cuadrante Político-Económico es: {politica} {economica}\") #Imprime el mensaje final\n",
        "\n",
        "pp = int(input(\"Digite su puntaje de vision Política: \"))\n",
        "pe = int(input(\"Digite su puntaje de vision Económica: \"))\n",
        "\n",
        "cuadrante2(pp, pe)"
      ],
      "metadata": {
        "colab": {
          "base_uri": "https://localhost:8080/"
        },
        "id": "Hk9G_4nx0q0r",
        "outputId": "22fa920e-4073-4375-872d-f1510ee9148a"
      },
      "execution_count": null,
      "outputs": [
        {
          "output_type": "stream",
          "name": "stdout",
          "text": [
            "Digite su puntaje de vision Política: 50\n",
            "Digite su puntaje de vision Económica: 40\n",
            "Su cuadrante Político-Económico es: Derecha Autoritaria\n"
          ]
        }
      ]
    },
    {
      "cell_type": "markdown",
      "metadata": {
        "id": "919f8cc6"
      },
      "source": [
        "### **Ejercicio 2: calcular el IMC**\n",
        "\n",
        "Asuma que el riesgo de que una persona sufra problemas del corazón depende de su edad y de su índice de masa corporal (IMC)\n",
        "\n",
        "|          | Edad $<$ 45     | Edad $\\geq 45$ |\n",
        "|--------------|-----------|------------|\n",
        "| IMC $<$ 22    | Bajo      | Medio        |\n",
        "| IMC $\\geq 22$ | Medio  | Alto       |\n",
        "\n",
        "El índice de masa corporal (IMC) es el cociente entre el peso del individuo en kilos y el cuadrado de su altura en metros. Escriba un programa que reciba como entrada la altura, el peso y la edad de una persona, y entregue su IMC y su nivel actual del riesgo."
      ]
    },
    {
      "cell_type": "code",
      "source": [
        "#Solución Propuesta - Sin Función\n",
        "\n",
        "#Variable que el usuario debe ingresar, estas variables son de tipo entero\n",
        "edad = int(input(\"Edad: \"))\n",
        "altura = float(input(\"Altura (cm):\"))\n",
        "peso = int(input(\"Peso:\"))\n",
        "\n",
        "#pow es una función que se compone de dos parámetros para elevar un numero en X\n",
        "altura2 = pow(altura, 2)\n",
        "\n",
        "#Calculo del IMC\n",
        "IMC = peso/altura2\n",
        "\n",
        "#Condifcional IF para validar si se cumple o no la regla y apartir de esta validación genera uan respuesta\n",
        "if IMC < 22 and edad < 45:\n",
        "  print(\"Riesgo bajo\")\n",
        "elif IMC >= 22 and edad < 45:\n",
        "    print(\"Riesgo Medio\")\n",
        "elif IMC < 22 and edad >= 45:\n",
        "  print(\"Riesgo Medio\")\n",
        "elif IMC >= 22 and edad >= 45:\n",
        "  print(\"Riesgo Alto\")\n",
        "else:\n",
        "  print(\"Otro\")"
      ],
      "metadata": {
        "colab": {
          "base_uri": "https://localhost:8080/"
        },
        "id": "iRr6tiVnuHLY",
        "outputId": "1c38cef8-13c7-490c-a3b3-950cb6d8afc2"
      },
      "execution_count": null,
      "outputs": [
        {
          "output_type": "stream",
          "name": "stdout",
          "text": [
            "Edad: 27\n",
            "Altura (cm):1.68\n",
            "Peso:65\n",
            "Riesgo Medio\n"
          ]
        }
      ]
    },
    {
      "cell_type": "code",
      "source": [
        "#Solución Propuesta - Con Función\n",
        "\n",
        "#funcion que permite calcular el IMC\n",
        "def calculo_imc(peso, altura):\n",
        "  return peso / (altura ** 2)\n",
        "\n",
        "#Funcion que permite validar el riesgo dado la edad y el IMC\n",
        "def riesgo(imc, edad):\n",
        "\n",
        "#Condifcional IF para valida si se cumple o no la regla y apartir de esta validación genera uan respuesta\n",
        "    if imc < 22 and edad < 45:\n",
        "        return \"Riesgo bajo\"\n",
        "    elif imc >= 22 and edad < 45:\n",
        "        return \"Riesgo Medio\"\n",
        "    elif imc < 22 and edad >= 45:\n",
        "        return \"Riesgo Medio\"\n",
        "    elif imc >= 22 and edad >= 45:\n",
        "        return \"Riesgo Alto\"\n",
        "    else:\n",
        "        return \"Otro\"\n",
        "\n",
        "#Variable que el usuario debe ingresar, estas variables son de tipo entero\n",
        "edad = int(input(\"Edad: \"))\n",
        "altura = float(input(\"Altura (cm):\"))\n",
        "peso = int(input(\"Peso:\"))\n",
        "\n",
        "#Este código llama la función de imc  que calcula este valor\n",
        "imc = calculo_imc(peso, altura)\n",
        "\n",
        "#Este código llama la función de riesgo que permite saber el nivel de riesgo que tiene el usuario\n",
        "riesgo = riesgo(imc, edad)\n",
        "\n",
        "# imprime la respuesta de las funciones imc y riesgo\n",
        "print(\"Su IMC es:\", imc)\n",
        "print(\"Su nivel de riesgo es:\",riesgo)"
      ],
      "metadata": {
        "colab": {
          "base_uri": "https://localhost:8080/"
        },
        "id": "FkJDEvPbt-z7",
        "outputId": "269bb9b3-3991-4e42-9eda-70a5ac05110e"
      },
      "execution_count": null,
      "outputs": [
        {
          "output_type": "stream",
          "name": "stdout",
          "text": [
            "Edad: 45\n",
            "Altura (cm):1.85\n",
            "Peso:98\n",
            "Su IMC es: 28.634039444850252\n",
            "Su nivel de riesgo es: Riesgo Alto\n"
          ]
        }
      ]
    },
    {
      "cell_type": "markdown",
      "metadata": {
        "id": "30f04e13"
      },
      "source": [
        "### __Ejercicio 3: ordenar pacientes__\n",
        "\n",
        "Diseñe un programa que lea el grupo poblacional de 3 pacientes y los ordene por prioridad de atención y/o orden de llegada\n",
        "\n",
        "Ej:\n",
        "- *Entrada:*\n",
        "    Niño, Adulto mayor, Adulto\n",
        "- *Salida:*\n",
        "    Adulto mayor, Niño, Adulto\n",
        "    "
      ]
    },
    {
      "cell_type": "code",
      "source": [
        "#Solución Propuesta - Sin Función\n",
        "\n",
        "print(\"El paciente puede ser Niño, Adulto o Adulto Mayor\")\n",
        "\n",
        "p1 = str(input(\"El paciente #1 es: \"))\n",
        "p2 = str(input(\"El paciente #2 es: \"))\n",
        "p3 = str(input(\"El paciente #3 es: \"))\n",
        "\n",
        "if p1 == \"Adulto Mayor\" and  p2 == \"Niño\":\n",
        "  print(f\"{p1,p2,p3}\")\n",
        "elif p2 == \"Adulto Mayor\" and  p3 == \"Niño\":\n",
        "  print(f\"{p2,p3,p1}\")\n",
        "elif p3 == \"Adulto Mayor\" and  p1 == \"Niño\":\n",
        "  print(f\"{p3,p1,p2}\")\n",
        "elif p2 == \"Adulto Mayor\" and  p1 == \"Niño\":\n",
        "  print(f\"{p2,p1,p3}\")\n",
        "elif p3 == \"Adulto Mayor\" and  p2 == \"Niño\":\n",
        "  print(f\"{p3,p2,p1}\")\n",
        "elif p1 == \"Adulto Mayor\" and  p3 == \"Niño\":\n",
        "  print(f\"{p1,p3,p2}\")"
      ],
      "metadata": {
        "colab": {
          "base_uri": "https://localhost:8080/"
        },
        "id": "ZpjXokWutGm6",
        "outputId": "f501a04d-1d74-4b12-cb69-957e15f50c31"
      },
      "execution_count": null,
      "outputs": [
        {
          "output_type": "stream",
          "name": "stdout",
          "text": [
            "El paciente puede ser Niño, Adulto o Adulto Mayor\n",
            "El paciente #1 es: Niño\n",
            "El paciente #2 es: Adulto Mayor\n",
            "El paciente #3 es: Adulto\n",
            "('Adulto Mayor', 'Niño', 'Adulto')\n"
          ]
        }
      ]
    },
    {
      "cell_type": "code",
      "source": [
        "#Solución Propuesta - Con Función\n",
        "\n",
        "def ordenar1(x, y, z):\n",
        "    personas = [x, y, z] #Lista con las tres personas\n",
        "    adulto_mayor = personas.index(\"Adulto Mayor\") #Busca la posicion en la lista de Adulto Mayor\n",
        "    niño = personas.index(\"Niño\") #Busca la posicion en la lista de Niño\n",
        "    adulto = 3 - adulto_mayor - niño #Busca la posicion restante que es Adulto\n",
        "    orden = [personas[adulto_mayor], personas[adulto], personas[niño]] #Da el orden correcto por jerarquia\n",
        "    print(tuple(orden)) #Lo imprime en una tupla\n",
        "\n",
        "print(\"El paciente puede ser Niño, Adulto o Adulto Mayor\")\n",
        "\n",
        "x = str(input(\"El paciente #1 es: \")).strip()\n",
        "y = str(input(\"El paciente #2 es: \")).strip()\n",
        "z = str(input(\"El paciente #3 es: \")).strip()\n",
        "\n",
        "ordenar1(x, y, z)"
      ],
      "metadata": {
        "colab": {
          "base_uri": "https://localhost:8080/"
        },
        "id": "G4iDeg78ss8J",
        "outputId": "f87f4722-2264-408a-8dcc-4a2da354114d"
      },
      "execution_count": null,
      "outputs": [
        {
          "output_type": "stream",
          "name": "stdout",
          "text": [
            "El paciente puede ser Niño, Adulto o Adulto Mayor\n",
            "El paciente #1 es: Niño\n",
            "El paciente #2 es: Adulto \n",
            "El paciente #3 es: Adulto Mayor\n",
            "('Adulto Mayor', 'Adulto', 'Niño')\n"
          ]
        }
      ]
    },
    {
      "cell_type": "markdown",
      "metadata": {
        "id": "f2bff57c"
      },
      "source": [
        "### **Ejercicio 4: cuanto se paga**\n",
        "\n",
        "Un laboratorio clínico ofrce los siguientes servicios:\n",
        "\n",
        "|servicio | Tarifa  |\n",
        "|---|---|\n",
        "|mamografía | \\$ 26450 |\n",
        "|Tomografía | \\$ 64740 |\n",
        "|Ecografía | \\$ 27920 |\n",
        "|Resonancia magnética | \\$ 96370 |\n",
        "|Rediografía convencional | \\$ 12970 |\n",
        "\n",
        "Para los clientes de cierta EPS se ofrecen descuentos según su categoría:\n",
        "\n",
        "|Categoría | Descuento  |\n",
        "|---|---|\n",
        "|A | 40\\% |\n",
        "|B | 30\\% |\n",
        "|C | 10\\% |\n",
        "|D | 5\\% |\n",
        "\n",
        "- Construya un programa que muestre el costo que pagará el cliente de acuerdo con el producto y su categoría.\n",
        "\n",
        "- Construya un programa que compare el costo de dos pacientes que toman dos servicios."
      ]
    },
    {
      "cell_type": "code",
      "source": [
        "# Solución propuesta - Sin Función\n",
        "\n",
        "valor_mamografia = 26450\n",
        "valor_tomografia = 64740\n",
        "valor_ecografia = 27920\n",
        "valor_resonancia_magnetica = 96370\n",
        "valor_radiografia_convencional = 12970\n",
        "\n",
        "valor_a = 0.4\n",
        "valor_b = 0.3\n",
        "valor_c = 0.1\n",
        "valor_d = 0.05\n",
        "\n",
        "servicio = input(\"Ingrese el servicio que desea: mamografia, tomografia, ecografia, resonancia magnetica o radiografia convencional \")\n",
        "categoria = input(\"Ingrese la categoria de la EPS a la que pertenece: A, B, C o D \")\n",
        "\n",
        "if(servicio == \"mamografia\" and categoria == \"A\"):\n",
        "  print(\"El costo del servicio es: \", valor_mamografia * (1 - valor_a))\n",
        "elif(servicio == \"mamografia\" and categoria == \"B\"):\n",
        "  print(\"El costo del servicio es: \", valor_mamografia * (1 - valor_b))\n",
        "elif(servicio == \"mamografia\" and categoria == \"C\"):\n",
        "  print(\"El costo del servicio es: \", valor_mamografia * (1 - valor_c))\n",
        "elif(servicio == \"mamografia\" and categoria == \"D\"):\n",
        "  print(\"El costo del servicio es: \", valor_mamografia * (1 - valor_d))\n",
        "elif(servicio == \"tomografia\" and categoria == \"A\"):\n",
        "  print(\"El costo del servicio es: \", valor_tomografia * (1 - valor_a))\n",
        "elif(servicio == \"tomografia\" and categoria == \"B\"):\n",
        "  print(\"El costo del servicio es: \", valor_tomografia * (1 - valor_b))\n",
        "elif(servicio == \"tomografia\" and categoria == \"C\"):\n",
        "  print(\"El costo del servicio es: \", valor_tomografia * (1 - valor_c))\n",
        "elif(servicio == \"tomografia\" and categoria == \"D\"):\n",
        "  print(\"El costo del servicio es: \", valor_tomografia * (1 - valor_d))\n",
        "elif(servicio == \"ecografia\" and categoria == \"A\"):\n",
        "  print(\"El costo del servicio es: \", valor_ecografia * (1 - valor_a))\n",
        "elif(servicio == \"ecografia\" and categoria == \"B\"):\n",
        "  print(\"El costo del servicio es: \", valor_ecografia * (1 - valor_b))\n",
        "elif(servicio == \"ecografia\" and categoria == \"C\"):\n",
        "  print(\"El costo del servicio es: \", valor_ecografia * (1 - valor_c))\n",
        "elif(servicio == \"ecografia\" and categoria == \"D\"):\n",
        "  print(\"El costo del servicio es: \", valor_ecografia * (1 - valor_d))\n",
        "elif(servicio == \"resonancia magnetica\" and categoria == \"A\"):\n",
        "  print(\"El costo del servicio es: \", valor_resonancia_magnetica * (1 - valor_a))\n",
        "elif(servicio == \"resonancia magnetica\" and categoria == \"B\"):\n",
        "  print(\"El costo del servicio es: \", valor_resonancia_magnetica * (1 - valor_b))\n",
        "elif(servicio == \"resonancia magnetica\" and categoria == \"C\"):\n",
        "  print(\"El costo del servicio es: \", valor_resonancia_magnetica * (1 - valor_c))\n",
        "elif(servicio == \"resonancia magnetica\" and categoria == \"D\"):\n",
        "  print(\"El costo del servicio es: \", valor_resonancia_magnetica * (1 - valor_d))\n",
        "elif(servicio == \"radiografia convencional\" and categoria == \"A\"):\n",
        "  print(\"El costo del servicio es: \", valor_radiografia_convencional * (1 - valor_a))\n",
        "elif(servicio == \"radiografia convencional\" and categoria == \"B\"):\n",
        "  print(\"El costo del servicio es: \", valor_radiografia_convencional * (1 - valor_b))\n",
        "elif(servicio == \"radiografia convencional\" and categoria == \"C\"):\n",
        "  print(\"El costo del servicio es: \", valor_radiografia_convencional * (1 - valor_c))\n",
        "elif(servicio == \"radiografia convencional\" and categoria == \"D\"):\n",
        "  print(\"El costo del servicio es: \", valor_radiografia_convencional * (1 - valor_d))\n",
        "else:\n",
        "  print(\"El servicio no existe\")"
      ],
      "metadata": {
        "colab": {
          "base_uri": "https://localhost:8080/"
        },
        "id": "t0FadcrD1Pfu",
        "outputId": "b7bc9b1a-2256-443c-889f-841192875e65"
      },
      "execution_count": null,
      "outputs": [
        {
          "output_type": "stream",
          "name": "stdout",
          "text": [
            "Ingrese el servicio que desea: mamografia, tomografia, ecografia, resonancia magnetica o radiografia convencional tomografia\n",
            "Ingrese la categoria de la EPS a la que pertenece: A, B, C o D C\n",
            "El costo del servicio es:  58266.0\n"
          ]
        }
      ]
    },
    {
      "cell_type": "code",
      "source": [
        "# Solución propuesta - Con Función\n",
        "\n",
        "def calcularCostoServicio(servicio, categoria):\n",
        "    valores_servicios = {\n",
        "        \"mamografia\": 26450,\n",
        "        \"tomografia\": 64740,\n",
        "        \"ecografia\": 27920,\n",
        "        \"resonancia magnetica\": 96370,\n",
        "        \"radiografia convencional\": 12970\n",
        "    }\n",
        "\n",
        "    descuentos = {\n",
        "        \"A\": 0.4,\n",
        "        \"B\": 0.3,\n",
        "        \"C\": 0.1,\n",
        "        \"D\": 0.05\n",
        "    }\n",
        "\n",
        "    if servicio in valores_servicios and categoria in descuentos:\n",
        "        costo_final = valores_servicios[servicio] * (1 - descuentos[categoria])\n",
        "        print(f\"El costo del servicio es: {costo_final}\")\n",
        "    else:\n",
        "        print(\"El servicio o la categoría no existe\")\n",
        "\n",
        "servicio = input(\"Ingrese el servicio que desea: mamografia, tomografia, ecografia, resonancia magnetica o radiografia convencional \")\n",
        "categoria = input(\"Ingrese la categoria de la EPS a la que pertenece: A, B, C o D \")\n",
        "calcularCostoServicio(servicio, categoria)"
      ],
      "metadata": {
        "colab": {
          "base_uri": "https://localhost:8080/"
        },
        "id": "HBZgwu1L1i2s",
        "outputId": "2e4ab740-7ce5-4457-81a6-6591dc49a12d"
      },
      "execution_count": null,
      "outputs": [
        {
          "output_type": "stream",
          "name": "stdout",
          "text": [
            "Ingrese el servicio que desea: mamografia, tomografia, ecografia, resonancia magnetica o radiografia convencional mamografia\n",
            "Ingrese la categoria de la EPS a la que pertenece: A, B, C o D D\n",
            "El costo del servicio es: 25127.5\n"
          ]
        }
      ]
    }
  ],
  "metadata": {
    "kernelspec": {
      "display_name": "Python 3.10.4 64-bit",
      "language": "python",
      "name": "python3"
    },
    "language_info": {
      "name": "python",
      "version": "3.10.4"
    },
    "orig_nbformat": 4,
    "vscode": {
      "interpreter": {
        "hash": "ebce837883e5480e9235eb2f46ee3f6741079d71238398a41b7b7df8658e2531"
      }
    },
    "colab": {
      "provenance": []
    }
  },
  "nbformat": 4,
  "nbformat_minor": 0
}